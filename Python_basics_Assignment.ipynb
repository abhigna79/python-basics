{
  "nbformat": 4,
  "nbformat_minor": 0,
  "metadata": {
    "colab": {
      "provenance": []
    },
    "kernelspec": {
      "name": "python3",
      "display_name": "Python 3"
    },
    "language_info": {
      "name": "python"
    }
  },
  "cells": [
    {
      "cell_type": "code",
      "execution_count": null,
      "metadata": {
        "id": "rJANZ32NsfvQ"
      },
      "outputs": [],
      "source": []
    },
    {
      "cell_type": "markdown",
      "source": [
        "#python basics\n",
        "1. What is Python, and why is it popular?\n",
        "   - The Python,is the high-level, versatile programming language.from web development to data science and artificial intelligence, Python has become the go-to language for developers, data scientists, and engineers.It is so popular because simpliicity, versatility.\n",
        "\n",
        "2. What is an interpreter in Python?\n",
        "   - The interpreter is nothing but it executes line-by-line instructions.\n",
        "\n",
        "3. What are pre-defined keywords in Python?\n",
        "   - True,false,if,else,elif,none,,while,for.\n",
        "\n",
        "4. Can keywords be used as variable names?\n",
        "   - NO we cannot use.\n",
        "\n",
        "5. What is mutability in Python?\n",
        "   - The ability of an object to be modified after it is created.\n",
        "   EX.list,dictionaries,sets.\n",
        "\n",
        "6. Why are lists mutable, but tuples are immutable?\n",
        "   - Lists (Mutable): Lists are designed to be flexible and dynamic. They are often used to represent collections of items that can change over time, such as adding, removing, or modifying elements.Where as\n",
        "   - Tuples (Immutable):Tuples provide a guarantee that the data within them will remain constant throughout the program, which can be useful for consistency,And it cannot be changed.\n",
        "\n",
        "7. What is the difference between “==” and “is” operators in Python?\n",
        "  - The \"==\" operator is used to compare the values of two objects to check if they are equal.\n",
        "  - The \"is\" operator is used to compare the identity of two object.\n",
        "\n",
        "8. What are logical operators in Python?\n",
        "   - and,or,not\n",
        "\n",
        "9. What is type casting in Python?\n",
        "   - the type casting refers to converting one data type into another.\n",
        "\n",
        "10. What is the difference between implicit and explicit type casting?\n",
        "    - Implicit type casting: is automatic. typically when converting smaller types (like integers) to larger types (like floats).\n",
        "\n",
        "    - Explicit type casting: is manually done by the programmer using conversion functions when Python cannot automatically determine how to convert types or when more control over the conversion is needed.\n",
        "\n",
        "11. What is the purpose of conditional statements in Python?\n",
        "    - Conditional statements in Python are used to make decisions in a program. They allow the program to execute specific blocks of code based on certain conditions.\n",
        "\n",
        "12. How does the elif statement work?\n",
        "    - The elif statement in Python is used to provide additional conditions after an initial if statement.\n",
        "\n",
        "13. What is the difference between for and while loops?\n",
        "    - for Loop Used when the number of iterations is predetermined or you need to iterate over a sequence (e.g., a list, tuple, string, range, etc.) The loop iterates over each element in a sequence or a range.\n",
        "\n",
        "   -  while Loop Used when the number of iterations is not known beforehand and depends on a condition being met.The loop continues as long as the condition is True.\n",
        "\n",
        "14. Describe a scenario where a while loop is more suitable than a for loop?\n",
        "    - A while loop is more suitable than a for loop in scenarios where the number of iterations is not predetermined and depends on a condition that could change dynamically during execution.\n",
        "\n",
        "\n",
        "\n",
        "\n",
        "\n",
        "\n",
        "\n",
        "    \n",
        "\n",
        "\n",
        "\n",
        "\n",
        "     \n",
        "Table of Content"
      ],
      "metadata": {
        "id": "JsOuFv62tHPD"
      }
    },
    {
      "cell_type": "markdown",
      "source": [
        "# PRACTICAL QUESTIONS"
      ],
      "metadata": {
        "id": "bddHXwiEZYJw"
      }
    },
    {
      "cell_type": "code",
      "source": [
        "# Write a Python program to print \"Hello, World!\"?"
      ],
      "metadata": {
        "id": "mxrHdSP3Zmri"
      },
      "execution_count": null,
      "outputs": []
    },
    {
      "cell_type": "code",
      "source": [
        "print(\"Hello, World!\")"
      ],
      "metadata": {
        "colab": {
          "base_uri": "https://localhost:8080/"
        },
        "id": "MT_FGG2wAaGs",
        "outputId": "cfd7f65a-a122-455f-f596-02b5c84625c2"
      },
      "execution_count": null,
      "outputs": [
        {
          "output_type": "stream",
          "name": "stdout",
          "text": [
            "Hello, World!\n"
          ]
        }
      ]
    },
    {
      "cell_type": "code",
      "source": [
        "#Write a Python program that displays your name and age?"
      ],
      "metadata": {
        "id": "MOgFlO4LvrAe"
      },
      "execution_count": null,
      "outputs": []
    },
    {
      "cell_type": "code",
      "source": [
        "name = input(\"Enter your name: \")\n",
        "age = int(input(\"Enter your age: \"))\n"
      ],
      "metadata": {
        "colab": {
          "base_uri": "https://localhost:8080/"
        },
        "id": "kd50vRG2txr5",
        "outputId": "ea480298-e4bc-496b-a523-ef46db16386f"
      },
      "execution_count": null,
      "outputs": [
        {
          "name": "stdout",
          "output_type": "stream",
          "text": [
            "Enter your name: Abhigna\n",
            "Enter your age: 23\n"
          ]
        }
      ]
    },
    {
      "cell_type": "code",
      "source": [
        "# Write code to print all the pre-defined keywords in Python using the keyword library?"
      ],
      "metadata": {
        "id": "VjH3ZejNDriM"
      },
      "execution_count": null,
      "outputs": []
    },
    {
      "cell_type": "code",
      "source": [
        "# Import the keyword library\n",
        "import keyword\n",
        "\n",
        "# Print all the pre-defined keywords\n",
        "print(\"Pre-defined keywords in Python:\")\n",
        "for kw in keyword.kwlist:\n",
        "    print(kw)\n",
        "\n"
      ],
      "metadata": {
        "colab": {
          "base_uri": "https://localhost:8080/"
        },
        "id": "oVcTZxN7D6Ap",
        "outputId": "30dde8ea-043b-4efc-bf08-ca1749bd2b35"
      },
      "execution_count": null,
      "outputs": [
        {
          "output_type": "stream",
          "name": "stdout",
          "text": [
            "Pre-defined keywords in Python:\n",
            "False\n",
            "None\n",
            "True\n",
            "and\n",
            "as\n",
            "assert\n",
            "async\n",
            "await\n",
            "break\n",
            "class\n",
            "continue\n",
            "def\n",
            "del\n",
            "elif\n",
            "else\n",
            "except\n",
            "finally\n",
            "for\n",
            "from\n",
            "global\n",
            "if\n",
            "import\n",
            "in\n",
            "is\n",
            "lambda\n",
            "nonlocal\n",
            "not\n",
            "or\n",
            "pass\n",
            "raise\n",
            "return\n",
            "try\n",
            "while\n",
            "with\n",
            "yield\n"
          ]
        }
      ]
    },
    {
      "cell_type": "code",
      "source": [
        "# Write a program that checks if a given word is a Python keyword?"
      ],
      "metadata": {
        "id": "0eRaqTtyFELK"
      },
      "execution_count": null,
      "outputs": []
    },
    {
      "cell_type": "code",
      "source": [
        "# Import the keyword library\n",
        "import keyword\n",
        "\n",
        "# Get input from the user\n",
        "word = input(\"Enter a word to check if it is a Python keyword: \")\n",
        "\n",
        "# Check if the word is a Python keyword\n",
        "if keyword.iskeyword(word):\n",
        "    print(f\"'{word}' is a Python keyword.\")\n",
        "else:\n",
        "    print(f\"'{word}' is not a Python keyword.\")\n"
      ],
      "metadata": {
        "colab": {
          "base_uri": "https://localhost:8080/"
        },
        "id": "L-hlp5vWFMjz",
        "outputId": "7d897953-1a63-480e-8fd5-698a80603f64"
      },
      "execution_count": null,
      "outputs": [
        {
          "output_type": "stream",
          "name": "stdout",
          "text": [
            "Enter a word to check if it is a Python keyword: and\n",
            "'and' is a Python keyword.\n"
          ]
        }
      ]
    },
    {
      "cell_type": "code",
      "source": [
        "#Create a list and tuple in Python, and demonstrate how attempting to change an element works differently\n",
        "for each?"
      ],
      "metadata": {
        "id": "dyHD4ZfOJXkf"
      },
      "execution_count": null,
      "outputs": []
    },
    {
      "cell_type": "code",
      "source": [
        "my_list = [1, 2, 3, 4]\n",
        "my_tuple = (1, 2, 3, 4)\n",
        "\n",
        "print(\"Original list:\", my_list)\n",
        "print(\"Original tuple:\", my_tuple)\n"
      ],
      "metadata": {
        "colab": {
          "base_uri": "https://localhost:8080/"
        },
        "id": "PrgHwKaSJq8Z",
        "outputId": "dfcda418-d8d3-4f13-8a62-257a792ea0e7"
      },
      "execution_count": null,
      "outputs": [
        {
          "output_type": "stream",
          "name": "stdout",
          "text": [
            "Original list: [1, 2, 3, 4]\n",
            "Original tuple: (1, 2, 3, 4)\n"
          ]
        }
      ]
    },
    {
      "cell_type": "code",
      "source": [
        "#Write a function to demonstrate the behavior of mutable and immutable arguments?\n"
      ],
      "metadata": {
        "id": "64BpU8wsKNpQ"
      },
      "execution_count": null,
      "outputs": []
    },
    {
      "cell_type": "code",
      "source": [
        "mutable_list = [1, 2, 3]\n",
        "immutable_number = 50\n",
        "\n",
        "print(\"Before function call:\")\n",
        "print(\"Mutable object:\", mutable_list)\n",
        "print(\"Immutable object:\", immutable_number)\n"
      ],
      "metadata": {
        "colab": {
          "base_uri": "https://localhost:8080/"
        },
        "id": "GAqb2-UVKXlQ",
        "outputId": "60bfd991-ca4d-42cb-f7f1-e8b41e163084"
      },
      "execution_count": null,
      "outputs": [
        {
          "output_type": "stream",
          "name": "stdout",
          "text": [
            "Before function call:\n",
            "Mutable object: [1, 2, 3]\n",
            "Immutable object: 50\n"
          ]
        }
      ]
    },
    {
      "cell_type": "code",
      "source": [
        "#Write a program to demonstrate the use of logical operators?"
      ],
      "metadata": {
        "id": "Xng_6bIIK5so"
      },
      "execution_count": null,
      "outputs": []
    },
    {
      "cell_type": "code",
      "source": [
        "# Define some variables\n",
        "x = 10\n",
        "y = 5\n",
        "z = 15\n",
        "\n",
        "# Logical AND\n",
        "print(\"Logical AND:\")\n",
        "print(f\"x > y and x < z: {x > y and x < z}\")  # True and True => True\n",
        "print(f\"x > y and x > z: {x > y and x > z}\")  # True and False => False\n",
        "\n",
        "# Logical OR\n",
        "print(\"\\nLogical OR:\")\n",
        "print(f\"x > y or x > z: {x > y or x > z}\")    # True or False => True\n",
        "print(f\"x < y or x > z: {x < y or x > z}\")    # False or False => False\n",
        "\n",
        "# Logical NOT\n",
        "print(\"\\nLogical NOT:\")\n",
        "print(f\"not(x > y): {not(x > y)}\")           # not(True) => False\n",
        "print(f\"not(x < y): {not(x < y)}\")           # not(False) => True\n",
        "\n"
      ],
      "metadata": {
        "colab": {
          "base_uri": "https://localhost:8080/"
        },
        "id": "b4XKj9dmLC_N",
        "outputId": "9d8f941e-bcf9-4fef-c165-a5982a56758e"
      },
      "execution_count": null,
      "outputs": [
        {
          "output_type": "stream",
          "name": "stdout",
          "text": [
            "Logical AND:\n",
            "x > y and x < z: True\n",
            "x > y and x > z: False\n",
            "\n",
            "Logical OR:\n",
            "x > y or x > z: True\n",
            "x < y or x > z: False\n",
            "\n",
            "Logical NOT:\n",
            "not(x > y): False\n",
            "not(x < y): True\n"
          ]
        }
      ]
    },
    {
      "cell_type": "code",
      "source": [
        "# Write a Python program to convert user input from string to integer, float, and boolean types?"
      ],
      "metadata": {
        "id": "Y4VTXMzrL0td"
      },
      "execution_count": null,
      "outputs": []
    },
    {
      "cell_type": "code",
      "source": [
        "user_input = input(\"Enter a value: \")"
      ],
      "metadata": {
        "colab": {
          "base_uri": "https://localhost:8080/"
        },
        "id": "DIFL3pFeMDwA",
        "outputId": "4871287e-5cd7-4958-8948-1f0f9b943f0d"
      },
      "execution_count": null,
      "outputs": [
        {
          "name": "stdout",
          "output_type": "stream",
          "text": [
            "Enter a value: 42\n"
          ]
        }
      ]
    },
    {
      "cell_type": "code",
      "source": [
        "#Write code to demonstrate type casting with list elements?"
      ],
      "metadata": {
        "id": "7fqz2JouS9qp"
      },
      "execution_count": null,
      "outputs": []
    },
    {
      "cell_type": "code",
      "source": [
        "input_list = [\"1\", \"2.5\", \"True\", \"Hello\"]\n"
      ],
      "metadata": {
        "id": "6bdJ1TliTGtX"
      },
      "execution_count": null,
      "outputs": []
    },
    {
      "cell_type": "code",
      "source": [
        "# Write a program that checks if a number is positive, negative, or zero?\n"
      ],
      "metadata": {
        "id": "RPrwZjvdTro7"
      },
      "execution_count": null,
      "outputs": []
    },
    {
      "cell_type": "code",
      "source": [
        "# Get input from the user\n",
        "number = float(input(\"Enter a number: \"))\n",
        "\n",
        "# Check if the number is positive, negative, or zero\n",
        "if number > 0:\n",
        "    print(\"The number is positive.\")\n",
        "elif number < 0:\n",
        "    print(\"The number is negative.\")\n",
        "else:\n",
        "    print(\"The number is zero.\")\n"
      ],
      "metadata": {
        "colab": {
          "base_uri": "https://localhost:8080/"
        },
        "id": "JG755LNoUTVV",
        "outputId": "c5e52fd0-d250-4d85-942c-97993ebcdd47"
      },
      "execution_count": null,
      "outputs": [
        {
          "output_type": "stream",
          "name": "stdout",
          "text": [
            "Enter a number: -5\n",
            "The number is negative.\n"
          ]
        }
      ]
    },
    {
      "cell_type": "code",
      "source": [
        "#Write a for loop to print numbers from 1 to 100?"
      ],
      "metadata": {
        "id": "S7IlkDtDUbQf"
      },
      "execution_count": null,
      "outputs": []
    },
    {
      "cell_type": "code",
      "source": [
        "\n",
        "for number in range(1, 101):\n",
        "    print(number)\n"
      ],
      "metadata": {
        "colab": {
          "base_uri": "https://localhost:8080/"
        },
        "id": "Eo5sckVYUogc",
        "outputId": "cca9f55d-9985-4d9b-8bc0-1c11e754b7dd"
      },
      "execution_count": null,
      "outputs": [
        {
          "output_type": "stream",
          "name": "stdout",
          "text": [
            "1\n",
            "2\n",
            "3\n",
            "4\n",
            "5\n",
            "6\n",
            "7\n",
            "8\n",
            "9\n",
            "10\n",
            "11\n",
            "12\n",
            "13\n",
            "14\n",
            "15\n",
            "16\n",
            "17\n",
            "18\n",
            "19\n",
            "20\n",
            "21\n",
            "22\n",
            "23\n",
            "24\n",
            "25\n",
            "26\n",
            "27\n",
            "28\n",
            "29\n",
            "30\n",
            "31\n",
            "32\n",
            "33\n",
            "34\n",
            "35\n",
            "36\n",
            "37\n",
            "38\n",
            "39\n",
            "40\n",
            "41\n",
            "42\n",
            "43\n",
            "44\n",
            "45\n",
            "46\n",
            "47\n",
            "48\n",
            "49\n",
            "50\n",
            "51\n",
            "52\n",
            "53\n",
            "54\n",
            "55\n",
            "56\n",
            "57\n",
            "58\n",
            "59\n",
            "60\n",
            "61\n",
            "62\n",
            "63\n",
            "64\n",
            "65\n",
            "66\n",
            "67\n",
            "68\n",
            "69\n",
            "70\n",
            "71\n",
            "72\n",
            "73\n",
            "74\n",
            "75\n",
            "76\n",
            "77\n",
            "78\n",
            "79\n",
            "80\n",
            "81\n",
            "82\n",
            "83\n",
            "84\n",
            "85\n",
            "86\n",
            "87\n",
            "88\n",
            "89\n",
            "90\n",
            "91\n",
            "92\n",
            "93\n",
            "94\n",
            "95\n",
            "96\n",
            "97\n",
            "98\n",
            "99\n",
            "100\n"
          ]
        }
      ]
    },
    {
      "cell_type": "code",
      "source": [
        "#Write a Python program to find the sum of all even numbers between 1 and 500?\n"
      ],
      "metadata": {
        "id": "JKONAt2eVddj"
      },
      "execution_count": null,
      "outputs": []
    },
    {
      "cell_type": "code",
      "source": [
        "# Initialize the sum\n",
        "sum_of_evens = 0\n",
        "\n",
        "# Loop through numbers from 1 to 500\n",
        "for number in range(1, 501):\n",
        "    if number % 2 == 0:  # Check if the number is even\n",
        "        sum_of_evens += number\n",
        "\n",
        "# Print the result\n",
        "print(\"The sum of all even numbers between 1 and 500 is:\", sum_of_evens)\n"
      ],
      "metadata": {
        "colab": {
          "base_uri": "https://localhost:8080/"
        },
        "id": "iGsZV1DjWCGp",
        "outputId": "0313e127-b028-44d5-d559-eeb91d7898df"
      },
      "execution_count": null,
      "outputs": [
        {
          "output_type": "stream",
          "name": "stdout",
          "text": [
            "The sum of all even numbers between 1 and 500 is: 62750\n"
          ]
        }
      ]
    },
    {
      "cell_type": "code",
      "source": [
        "#Write a program to reverse a string using a while loop?"
      ],
      "metadata": {
        "id": "qXMx0-9FWOL4"
      },
      "execution_count": null,
      "outputs": []
    },
    {
      "cell_type": "code",
      "source": [
        "# Get input from the user\n",
        "original_string = input(\"Enter a string to reverse: \")\n",
        "\n",
        "# Initialize variables\n",
        "reversed_string = \"\"\n",
        "index = len(original_string) - 1  # Start from the last character\n",
        "\n",
        "# Reverse the string using a while loop\n",
        "while index >= 0:\n",
        "    reversed_string += original_string[index]\n",
        "    index -= 1  # Move to the previous character\n",
        "\n",
        "# Print the reversed string\n",
        "print(\"Reversed string:\", reversed_string)\n"
      ],
      "metadata": {
        "colab": {
          "base_uri": "https://localhost:8080/"
        },
        "id": "rzfqZ5EdWj4q",
        "outputId": "33c736a2-53ac-448c-fd99-ea3cf40f2817"
      },
      "execution_count": null,
      "outputs": [
        {
          "output_type": "stream",
          "name": "stdout",
          "text": [
            "Enter a string to reverse: abhigna\n",
            "Reversed string: angihba\n"
          ]
        }
      ]
    },
    {
      "cell_type": "code",
      "source": [
        "#Write a Python program to calculate the factorial of a number provided by the user using a while loop?"
      ],
      "metadata": {
        "id": "rOt3_GBMXJ43"
      },
      "execution_count": null,
      "outputs": []
    },
    {
      "cell_type": "code",
      "source": [
        "# Get input from the user\n",
        "number = int(input(\"Enter a non-negative integer to calculate its factorial: \"))\n",
        "\n",
        "# Validate input\n",
        "if number < 0:\n",
        "    print(\"Factorial is not defined for negative numbers.\")\n",
        "else:\n",
        "    # Initialize variables\n",
        "    factorial = 1\n",
        "    current = number\n",
        "\n",
        "    # Calculate factorial using a while loop\n",
        "    while current > 0:\n",
        "        factorial *= current\n",
        "        current -= 1\n",
        "\n",
        "    # Print the result\n",
        "    print(f\"The factorial of {number} is: {factorial}\")\n"
      ],
      "metadata": {
        "colab": {
          "base_uri": "https://localhost:8080/"
        },
        "id": "TUFCMbQaZBm3",
        "outputId": "6d856e15-ab7d-4883-f475-87f72afc36c6"
      },
      "execution_count": null,
      "outputs": [
        {
          "output_type": "stream",
          "name": "stdout",
          "text": [
            "Enter a non-negative integer to calculate its factorial: 5\n",
            "The factorial of 5 is: 120\n"
          ]
        }
      ]
    }
  ]
}